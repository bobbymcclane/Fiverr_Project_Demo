{
 "cells": [
  {
   "cell_type": "markdown",
   "metadata": {},
   "source": [
    "\n",
    "<h1 align=center><font size = 5>Using Location coordinates to link to corresponding Neighborshoods</font></h1>"
   ]
  },
  {
   "cell_type": "code",
   "execution_count": 4,
   "metadata": {},
   "outputs": [],
   "source": [
    "# Import necessary Libraries\n",
    "import pandas as pd\n",
    "import math\n",
    "import numpy as np\n",
    "from numpy import ndarray"
   ]
  },
  {
   "cell_type": "markdown",
   "metadata": {},
   "source": [
    "## Files Required\n",
    "<a href=\"#item1\">Augusta_Crime_Data.csv</a> aka df_Crime_Raw_Data\n",
    "- This file contains longitude data under column 'X' and latitude data under 'Y'\n",
    "\n",
    "<a href=\"#item1\">Sample Augusta Neighbourhoods.csv</a> aka df_Neighborhood_Raw_Data\n",
    "- This file contains longitude data under column 'Longitude' and latitude data under 'Latitude' and Neighborhood data under column 'Nearest Neighbourhood'\n",
    "\n",
    "These files have been either forwarded to you on fiverr or can be downloaded \n",
    "1. https://www.dropbox.com/s/g5eipr4ij8te6ie/Augusta_Crime_Data.csv?dl=0\n",
    "2. https://www.dropbox.com/s/47fl6rzwuhd83lw/Sample%20Augusta%20Neighbourhoods.csv?dl=0"
   ]
  },
  {
   "cell_type": "markdown",
   "metadata": {},
   "source": [
    "## Solution Required\n",
    "\n",
    "- I would like the Augusta_Crime_Data.csv file to have a new column that contains a list of the corresponding neighborhood.\n",
    "\n",
    "\n",
    "#### How will this be done?\n",
    "- We will use a Haversine formula.\n",
    "    - A Haversine formula calculates the distance between 2 coordinates.\n",
    "- Sample Augusta Neighbourhoods.csv contains the list of Neighborshoods that will need to need to be listed in the new neighborhood column we  will create in the Augusta_Crime_Data.csv\n",
    "\n",
    "In this project the Haversine formula has been prepared as a function: distanceFromAugustaGolf(lon,lat)\n",
    "\n",
    "#### def distanceFromAugustaGolf (lon,lat):\n",
    "   ###### import math\n",
    "   ###### lon1 = -82.066007\n",
    "   ###### lat1 = 33.472074\n",
    "   ###### R = 6371000; \n",
    "    \n",
    "   ###### dLat = (33.4747346-lat) * math.pi / 180 # Convert degrees to radians\n",
    "   ###### dLon = (-82.0497226-lon) * math.pi / 180 # Convert degrees to radians\n",
    "   ###### a = math.sin(dLat/2) * math.sin(dLat/2) + math.cos(lat * math.pi / 180 ) * math.cos(33.4747346 * math.pi / 180 ) * math.sin(dLon/2) * math.sin(dLon/2)\n",
    "   ###### c = 2 * math.atan2(math.sqrt(a), math.sqrt(1-a))\n",
    "   ###### d = (R * c)/1000\n",
    "   ###### return d\n",
    "    "
   ]
  },
  {
   "cell_type": "markdown",
   "metadata": {},
   "source": [
    "## Written out Example\n",
    "\n",
    "##### Create dataframe \n",
    "1. Augusta_Crime_Data.csv = <em><strong>df_Crime_Raw_Data</em>\n",
    "2. Sample Augusta Neighbourhoods.csv = <em><strong>df_Neighborhood_Raw_Data</em>\n",
    "\n",
    "\n",
    "- Lets say <em><strong>df_Crime_Raw_Data</em> has 5 rows of data.\n",
    "- Lets say <em><strong>df_Neighborhood_Raw_Data</em> has the following data below :\n",
    "    \n",
    "########Nearest Neighbourhood########City########State########Coordinates########Longitude########Latitude\n",
    "0. Academy Baker Ave########Augusta ########Georgia########33.4836288, -82.0845725########33.483629########-82.084572\n",
    "1. Albion Acres########Augusta########Georgia########33.4125043, -82.0220507########33.412504########-82.022051\n",
    "2. Barton Chapel########Augusta########Georgia########33.4424915, -82.0883992########33.442491\t-82.088399\n",
    "3. Bath-Edie########Augusta########Georgia########33.3333868, -82.2163489########33.333387########-82.216349\n",
    "\n",
    "- Lets take the longitude [0] value under column 'X' and latitude [0] value under 'Y' and use the Haversine formula <em><strong>distanceFromAugustaGolf(lon,lat)</em> to find out the distance between is and the 'Nearest Neighbourhood' list found in <em><strong>df_Neighborhood_Raw_Data</em>\n",
    "- A temporary column 'Distance from Crime' created and the index found that correspondes to the 'Nearest Neighbourhood'    Academy Baker or Albion Acre or Barton Chapel or Bath-Edie\n",
    "    \n",
    "    <em><strong>index = df_Neighborhood_Raw_Data['Distance from Crime'].idxmin()</em>\n",
    "        \n",
    "        - If it was Albion Acre, then a new column[0] 'Neigborhood' in df_Crime_Raw_Data will list Albion Acre\n",
    "        \n",
    "### Goal: \n",
    "        take the longitude [1] value under column 'X' and latitude [1] value under 'Y' and use the Haversine formula...If it was Barton Chapel, then a new column[1] 'Neigborhood' in df_Crime_Raw_Data will list Barton Chapel\n",
    "        take the longitude [2] value under column 'X' and latitude [2] value under 'Y' and use the Haversine formula...If it was Academy Baker, then a new column[2] 'Neigborhood' in df_Crime_Raw_Data will list Academy Baker\n",
    "        \n",
    "        ...etc\n",
    "            "
   ]
  },
  {
   "cell_type": "code",
   "execution_count": 5,
   "metadata": {},
   "outputs": [
    {
     "data": {
      "text/html": [
       "<div>\n",
       "<style scoped>\n",
       "    .dataframe tbody tr th:only-of-type {\n",
       "        vertical-align: middle;\n",
       "    }\n",
       "\n",
       "    .dataframe tbody tr th {\n",
       "        vertical-align: top;\n",
       "    }\n",
       "\n",
       "    .dataframe thead th {\n",
       "        text-align: right;\n",
       "    }\n",
       "</style>\n",
       "<table border=\"1\" class=\"dataframe\">\n",
       "  <thead>\n",
       "    <tr style=\"text-align: right;\">\n",
       "      <th></th>\n",
       "      <th>X</th>\n",
       "      <th>Y</th>\n",
       "      <th>OBJECTID</th>\n",
       "      <th>CASE_NUMBER</th>\n",
       "      <th>CROSS_STREET</th>\n",
       "      <th>INTERSECTION</th>\n",
       "      <th>STREET_ADDRESS</th>\n",
       "      <th>MONTH</th>\n",
       "      <th>ZIPCODE</th>\n",
       "      <th>MAJOR_CRIME_CATEGORY</th>\n",
       "      <th>CATEGORY</th>\n",
       "      <th>SUBCATEGORY1</th>\n",
       "      <th>SUBCATEGORY2</th>\n",
       "      <th>BEAT</th>\n",
       "      <th>REPORTED_DATE</th>\n",
       "      <th>YEAR</th>\n",
       "    </tr>\n",
       "  </thead>\n",
       "  <tbody>\n",
       "    <tr>\n",
       "      <td>0</td>\n",
       "      <td>-82.066007</td>\n",
       "      <td>33.472074</td>\n",
       "      <td>1</td>\n",
       "      <td>2017-00412862</td>\n",
       "      <td>NaN</td>\n",
       "      <td>NaN</td>\n",
       "      <td>3220 HERITAGE CIR</td>\n",
       "      <td>11-Nov</td>\n",
       "      <td>30909</td>\n",
       "      <td>Violent Crimes</td>\n",
       "      <td>Homicide</td>\n",
       "      <td>NaN</td>\n",
       "      <td>NaN</td>\n",
       "      <td>13.0</td>\n",
       "      <td>2017-11-05T01:25:29.000Z</td>\n",
       "      <td>2017</td>\n",
       "    </tr>\n",
       "    <tr>\n",
       "      <td>1</td>\n",
       "      <td>-82.025184</td>\n",
       "      <td>33.422534</td>\n",
       "      <td>2</td>\n",
       "      <td>2017-00414244</td>\n",
       "      <td>NaN</td>\n",
       "      <td>NaN</td>\n",
       "      <td>2714 MARGARET CT</td>\n",
       "      <td>11-Nov</td>\n",
       "      <td>30906</td>\n",
       "      <td>Violent Crimes</td>\n",
       "      <td>Robbery</td>\n",
       "      <td>Individual</td>\n",
       "      <td>Armed</td>\n",
       "      <td>24.0</td>\n",
       "      <td>2017-11-06T11:35:44.000Z</td>\n",
       "      <td>2017</td>\n",
       "    </tr>\n",
       "    <tr>\n",
       "      <td>2</td>\n",
       "      <td>-82.080317</td>\n",
       "      <td>33.421334</td>\n",
       "      <td>3</td>\n",
       "      <td>2017-00415999</td>\n",
       "      <td>NaN</td>\n",
       "      <td>NaN</td>\n",
       "      <td>2664 BARTON CHAPEL RD</td>\n",
       "      <td>11-Nov</td>\n",
       "      <td>30906</td>\n",
       "      <td>Violent Crimes</td>\n",
       "      <td>Robbery</td>\n",
       "      <td>Individual</td>\n",
       "      <td>Armed</td>\n",
       "      <td>21.0</td>\n",
       "      <td>2017-11-07T17:46:49.000Z</td>\n",
       "      <td>2017</td>\n",
       "    </tr>\n",
       "    <tr>\n",
       "      <td>3</td>\n",
       "      <td>-82.068223</td>\n",
       "      <td>33.390878</td>\n",
       "      <td>4</td>\n",
       "      <td>2017-00420299</td>\n",
       "      <td>NaN</td>\n",
       "      <td>NaN</td>\n",
       "      <td>2509 DRUMCLIFF CT</td>\n",
       "      <td>11-Nov</td>\n",
       "      <td>30815</td>\n",
       "      <td>Violent Crimes</td>\n",
       "      <td>Robbery</td>\n",
       "      <td>Individual</td>\n",
       "      <td>Armed</td>\n",
       "      <td>30.0</td>\n",
       "      <td>2017-11-11T00:24:23.000Z</td>\n",
       "      <td>2017</td>\n",
       "    </tr>\n",
       "    <tr>\n",
       "      <td>4</td>\n",
       "      <td>-82.047967</td>\n",
       "      <td>33.399386</td>\n",
       "      <td>5</td>\n",
       "      <td>2017-00416380</td>\n",
       "      <td>NaN</td>\n",
       "      <td>NaN</td>\n",
       "      <td>2350 WINDSOR SPRING RD</td>\n",
       "      <td>11-Nov</td>\n",
       "      <td>30906</td>\n",
       "      <td>Violent Crimes</td>\n",
       "      <td>Robbery</td>\n",
       "      <td>Individual</td>\n",
       "      <td>Armed</td>\n",
       "      <td>29.0</td>\n",
       "      <td>2017-11-08T00:53:19.000Z</td>\n",
       "      <td>2017</td>\n",
       "    </tr>\n",
       "  </tbody>\n",
       "</table>\n",
       "</div>"
      ],
      "text/plain": [
       "           X          Y  OBJECTID    CASE_NUMBER  CROSS_STREET  INTERSECTION  \\\n",
       "0 -82.066007  33.472074         1  2017-00412862           NaN           NaN   \n",
       "1 -82.025184  33.422534         2  2017-00414244           NaN           NaN   \n",
       "2 -82.080317  33.421334         3  2017-00415999           NaN           NaN   \n",
       "3 -82.068223  33.390878         4  2017-00420299           NaN           NaN   \n",
       "4 -82.047967  33.399386         5  2017-00416380           NaN           NaN   \n",
       "\n",
       "            STREET_ADDRESS   MONTH  ZIPCODE MAJOR_CRIME_CATEGORY  CATEGORY  \\\n",
       "0       3220 HERITAGE CIR   11-Nov    30909       Violent Crimes  Homicide   \n",
       "1        2714 MARGARET CT   11-Nov    30906       Violent Crimes   Robbery   \n",
       "2   2664 BARTON CHAPEL RD   11-Nov    30906       Violent Crimes   Robbery   \n",
       "3        2509 DRUMCLIFF CT  11-Nov    30815       Violent Crimes   Robbery   \n",
       "4  2350 WINDSOR SPRING RD   11-Nov    30906       Violent Crimes   Robbery   \n",
       "\n",
       "  SUBCATEGORY1 SUBCATEGORY2  BEAT             REPORTED_DATE  YEAR  \n",
       "0          NaN          NaN  13.0  2017-11-05T01:25:29.000Z  2017  \n",
       "1   Individual        Armed  24.0  2017-11-06T11:35:44.000Z  2017  \n",
       "2   Individual        Armed  21.0  2017-11-07T17:46:49.000Z  2017  \n",
       "3   Individual        Armed  30.0  2017-11-11T00:24:23.000Z  2017  \n",
       "4   Individual        Armed  29.0  2017-11-08T00:53:19.000Z  2017  "
      ]
     },
     "execution_count": 5,
     "metadata": {},
     "output_type": "execute_result"
    }
   ],
   "source": [
    "# df_Crime_Raw_Data\n",
    "df_Crime_Raw_Data = pd.read_csv('Augusta_Crime_Data.csv', header=0)\n",
    "df_Crime_Raw_Data.head()"
   ]
  },
  {
   "cell_type": "code",
   "execution_count": 6,
   "metadata": {},
   "outputs": [
    {
     "data": {
      "text/plain": [
       "33.472073699999996"
      ]
     },
     "execution_count": 6,
     "metadata": {},
     "output_type": "execute_result"
    }
   ],
   "source": [
    "df_Crime_Raw_Data['Y'][0]"
   ]
  },
  {
   "cell_type": "code",
   "execution_count": 7,
   "metadata": {},
   "outputs": [
    {
     "data": {
      "text/plain": [
       "-82.06600665"
      ]
     },
     "execution_count": 7,
     "metadata": {},
     "output_type": "execute_result"
    }
   ],
   "source": [
    "df_Crime_Raw_Data['X'][0]"
   ]
  },
  {
   "cell_type": "code",
   "execution_count": 8,
   "metadata": {},
   "outputs": [
    {
     "data": {
      "text/html": [
       "<div>\n",
       "<style scoped>\n",
       "    .dataframe tbody tr th:only-of-type {\n",
       "        vertical-align: middle;\n",
       "    }\n",
       "\n",
       "    .dataframe tbody tr th {\n",
       "        vertical-align: top;\n",
       "    }\n",
       "\n",
       "    .dataframe thead th {\n",
       "        text-align: right;\n",
       "    }\n",
       "</style>\n",
       "<table border=\"1\" class=\"dataframe\">\n",
       "  <thead>\n",
       "    <tr style=\"text-align: right;\">\n",
       "      <th></th>\n",
       "      <th>Nearest Neighbourhood</th>\n",
       "      <th>City</th>\n",
       "      <th>State</th>\n",
       "      <th>Coordinates</th>\n",
       "      <th>Longitude</th>\n",
       "      <th>Latitude</th>\n",
       "    </tr>\n",
       "  </thead>\n",
       "  <tbody>\n",
       "    <tr>\n",
       "      <td>0</td>\n",
       "      <td>Academy Baker Ave</td>\n",
       "      <td>Augusta</td>\n",
       "      <td>Georgia</td>\n",
       "      <td>33.4836288, -82.0845725</td>\n",
       "      <td>33.483629</td>\n",
       "      <td>-82.084572</td>\n",
       "    </tr>\n",
       "    <tr>\n",
       "      <td>1</td>\n",
       "      <td>Albion Acres</td>\n",
       "      <td>Augusta</td>\n",
       "      <td>Georgia</td>\n",
       "      <td>33.4125043, -82.0220507</td>\n",
       "      <td>33.412504</td>\n",
       "      <td>-82.022051</td>\n",
       "    </tr>\n",
       "    <tr>\n",
       "      <td>2</td>\n",
       "      <td>Barton Chapel</td>\n",
       "      <td>Augusta</td>\n",
       "      <td>Georgia</td>\n",
       "      <td>33.4424915, -82.0883992</td>\n",
       "      <td>33.442491</td>\n",
       "      <td>-82.088399</td>\n",
       "    </tr>\n",
       "    <tr>\n",
       "      <td>3</td>\n",
       "      <td>Bath-Edie</td>\n",
       "      <td>Augusta</td>\n",
       "      <td>Georgia</td>\n",
       "      <td>33.3333868, -82.2163489</td>\n",
       "      <td>33.333387</td>\n",
       "      <td>-82.216349</td>\n",
       "    </tr>\n",
       "  </tbody>\n",
       "</table>\n",
       "</div>"
      ],
      "text/plain": [
       "  Nearest Neighbourhood     City    State              Coordinates  Longitude  \\\n",
       "0     Academy Baker Ave  Augusta  Georgia  33.4836288, -82.0845725  33.483629   \n",
       "1          Albion Acres  Augusta  Georgia  33.4125043, -82.0220507  33.412504   \n",
       "2         Barton Chapel  Augusta  Georgia  33.4424915, -82.0883992  33.442491   \n",
       "3             Bath-Edie  Augusta  Georgia  33.3333868, -82.2163489  33.333387   \n",
       "\n",
       "    Latitude  \n",
       "0 -82.084572  \n",
       "1 -82.022051  \n",
       "2 -82.088399  \n",
       "3 -82.216349  "
      ]
     },
     "execution_count": 8,
     "metadata": {},
     "output_type": "execute_result"
    }
   ],
   "source": [
    "# df_Neighborhood_Raw_Data\n",
    "df_Neighborhood_Raw_Data = pd.read_csv('Sample Augusta Neighbourhoods.csv', header=0)\n",
    "df_Neighborhood_Raw_Data.head()"
   ]
  },
  {
   "cell_type": "code",
   "execution_count": 9,
   "metadata": {},
   "outputs": [],
   "source": [
    "#Uses Haversine formula to calculate distance of location another coordinate (  lon1 = -82.066007, lat1 = 33.472074)\n",
    "def distanceFromAugustaGolf (lon,lat):\n",
    "    import math\n",
    "    lon1 = -82.066007\n",
    "    lat1 = 33.472074\n",
    "    R = 6371000; # radius of the earth in meters, https://en.wikipedia.org/wiki/Earth_radius\n",
    "    dLat = (33.4747346-lat) * math.pi / 180 # Convert degrees to radians\n",
    "    dLon = (-82.0497226-lon) * math.pi / 180 # Convert degrees to radians\n",
    "    a = math.sin(dLat/2) * math.sin(dLat/2) + math.cos(lat * math.pi / 180 ) * math.cos(33.4747346 * math.pi / 180 ) * math.sin(dLon/2) * math.sin(dLon/2)\n",
    "    c = 2 * math.atan2(math.sqrt(a), math.sqrt(1-a))\n",
    "    d = (R * c)/1000\n",
    "    return d"
   ]
  },
  {
   "cell_type": "code",
   "execution_count": 10,
   "metadata": {},
   "outputs": [
    {
     "data": {
      "text/plain": [
       "3.3801158227191515"
      ]
     },
     "execution_count": 10,
     "metadata": {},
     "output_type": "execute_result"
    }
   ],
   "source": [
    "distanceFromAugustaGolf (df_Neighborhood_Raw_Data['Latitude'][0],df_Neighborhood_Raw_Data['Longitude'][0])"
   ]
  },
  {
   "cell_type": "code",
   "execution_count": 11,
   "metadata": {},
   "outputs": [],
   "source": [
    "# Creates Distance values from df_Crime_Raw_Data['Y'][0] lat1 = df_Crime_Raw_Data['X'][0]\n",
    "from numpy import ndarray\n",
    "\n",
    "Distance_Cal_Crime = ndarray((len(df_Neighborhood_Raw_Data),),float)\n",
    "distance_CalArray = ndarray((len(df_Neighborhood_Raw_Data),),float)\n",
    "for i in range (len(df_Neighborhood_Raw_Data)):\n",
    "    distance_CalArray[i] = distanceFromAugustaGolf (df_Neighborhood_Raw_Data['Latitude'][i],df_Neighborhood_Raw_Data['Longitude'][i])\n",
    "    Distance_Cal_Crime[i] = distance_CalArray[i]"
   ]
  },
  {
   "cell_type": "code",
   "execution_count": 12,
   "metadata": {},
   "outputs": [
    {
     "data": {
      "text/plain": [
       "array([ 3.38011582,  7.38067038,  5.07223768, 22.05146859])"
      ]
     },
     "execution_count": 12,
     "metadata": {},
     "output_type": "execute_result"
    }
   ],
   "source": [
    "Distance_Cal_Crime"
   ]
  },
  {
   "cell_type": "code",
   "execution_count": 13,
   "metadata": {},
   "outputs": [],
   "source": [
    "df_Neighborhood_Raw_Data['Distance from Crime'] = Distance_Cal_Crime"
   ]
  },
  {
   "cell_type": "code",
   "execution_count": 14,
   "metadata": {},
   "outputs": [
    {
     "data": {
      "text/html": [
       "<div>\n",
       "<style scoped>\n",
       "    .dataframe tbody tr th:only-of-type {\n",
       "        vertical-align: middle;\n",
       "    }\n",
       "\n",
       "    .dataframe tbody tr th {\n",
       "        vertical-align: top;\n",
       "    }\n",
       "\n",
       "    .dataframe thead th {\n",
       "        text-align: right;\n",
       "    }\n",
       "</style>\n",
       "<table border=\"1\" class=\"dataframe\">\n",
       "  <thead>\n",
       "    <tr style=\"text-align: right;\">\n",
       "      <th></th>\n",
       "      <th>Nearest Neighbourhood</th>\n",
       "      <th>City</th>\n",
       "      <th>State</th>\n",
       "      <th>Coordinates</th>\n",
       "      <th>Longitude</th>\n",
       "      <th>Latitude</th>\n",
       "      <th>Distance from Crime</th>\n",
       "    </tr>\n",
       "  </thead>\n",
       "  <tbody>\n",
       "    <tr>\n",
       "      <td>0</td>\n",
       "      <td>Academy Baker Ave</td>\n",
       "      <td>Augusta</td>\n",
       "      <td>Georgia</td>\n",
       "      <td>33.4836288, -82.0845725</td>\n",
       "      <td>33.483629</td>\n",
       "      <td>-82.084572</td>\n",
       "      <td>3.380116</td>\n",
       "    </tr>\n",
       "    <tr>\n",
       "      <td>1</td>\n",
       "      <td>Albion Acres</td>\n",
       "      <td>Augusta</td>\n",
       "      <td>Georgia</td>\n",
       "      <td>33.4125043, -82.0220507</td>\n",
       "      <td>33.412504</td>\n",
       "      <td>-82.022051</td>\n",
       "      <td>7.380670</td>\n",
       "    </tr>\n",
       "    <tr>\n",
       "      <td>2</td>\n",
       "      <td>Barton Chapel</td>\n",
       "      <td>Augusta</td>\n",
       "      <td>Georgia</td>\n",
       "      <td>33.4424915, -82.0883992</td>\n",
       "      <td>33.442491</td>\n",
       "      <td>-82.088399</td>\n",
       "      <td>5.072238</td>\n",
       "    </tr>\n",
       "    <tr>\n",
       "      <td>3</td>\n",
       "      <td>Bath-Edie</td>\n",
       "      <td>Augusta</td>\n",
       "      <td>Georgia</td>\n",
       "      <td>33.3333868, -82.2163489</td>\n",
       "      <td>33.333387</td>\n",
       "      <td>-82.216349</td>\n",
       "      <td>22.051469</td>\n",
       "    </tr>\n",
       "  </tbody>\n",
       "</table>\n",
       "</div>"
      ],
      "text/plain": [
       "  Nearest Neighbourhood     City    State              Coordinates  Longitude  \\\n",
       "0     Academy Baker Ave  Augusta  Georgia  33.4836288, -82.0845725  33.483629   \n",
       "1          Albion Acres  Augusta  Georgia  33.4125043, -82.0220507  33.412504   \n",
       "2         Barton Chapel  Augusta  Georgia  33.4424915, -82.0883992  33.442491   \n",
       "3             Bath-Edie  Augusta  Georgia  33.3333868, -82.2163489  33.333387   \n",
       "\n",
       "    Latitude  Distance from Crime  \n",
       "0 -82.084572             3.380116  \n",
       "1 -82.022051             7.380670  \n",
       "2 -82.088399             5.072238  \n",
       "3 -82.216349            22.051469  "
      ]
     },
     "execution_count": 14,
     "metadata": {},
     "output_type": "execute_result"
    }
   ],
   "source": [
    "df_Neighborhood_Raw_Data.head()"
   ]
  },
  {
   "cell_type": "code",
   "execution_count": 15,
   "metadata": {},
   "outputs": [
    {
     "data": {
      "text/plain": [
       "3.3801158227191515"
      ]
     },
     "execution_count": 15,
     "metadata": {},
     "output_type": "execute_result"
    }
   ],
   "source": [
    "df_Neighborhood_Raw_Data['Distance from Crime'].min()"
   ]
  },
  {
   "cell_type": "code",
   "execution_count": 16,
   "metadata": {},
   "outputs": [],
   "source": [
    "index = df_Neighborhood_Raw_Data['Distance from Crime'].idxmin() "
   ]
  },
  {
   "cell_type": "code",
   "execution_count": 17,
   "metadata": {},
   "outputs": [
    {
     "data": {
      "text/plain": [
       "'Academy Baker Ave'"
      ]
     },
     "execution_count": 17,
     "metadata": {},
     "output_type": "execute_result"
    }
   ],
   "source": [
    "df_Neighborhood_Raw_Data['Nearest Neighbourhood'][index]"
   ]
  },
  {
   "cell_type": "code",
   "execution_count": 18,
   "metadata": {},
   "outputs": [],
   "source": [
    "df_Crime_Raw_Data['Neighborhood'] = np.nan"
   ]
  },
  {
   "cell_type": "code",
   "execution_count": 19,
   "metadata": {},
   "outputs": [
    {
     "name": "stderr",
     "output_type": "stream",
     "text": [
      "/home/jupyterlab/conda/envs/python/lib/python3.6/site-packages/ipykernel_launcher.py:1: SettingWithCopyWarning: \n",
      "A value is trying to be set on a copy of a slice from a DataFrame\n",
      "\n",
      "See the caveats in the documentation: http://pandas.pydata.org/pandas-docs/stable/user_guide/indexing.html#returning-a-view-versus-a-copy\n",
      "  \"\"\"Entry point for launching an IPython kernel.\n",
      "/home/jupyterlab/conda/envs/python/lib/python3.6/site-packages/pandas/core/indexing.py:205: SettingWithCopyWarning: \n",
      "A value is trying to be set on a copy of a slice from a DataFrame\n",
      "\n",
      "See the caveats in the documentation: http://pandas.pydata.org/pandas-docs/stable/user_guide/indexing.html#returning-a-view-versus-a-copy\n",
      "  self._setitem_with_indexer(indexer, value)\n"
     ]
    }
   ],
   "source": [
    "df_Crime_Raw_Data['Neighborhood'][0] = df_Neighborhood_Raw_Data['Nearest Neighbourhood'][index]"
   ]
  },
  {
   "cell_type": "code",
   "execution_count": 79,
   "metadata": {},
   "outputs": [
    {
     "data": {
      "text/html": [
       "<div>\n",
       "<style scoped>\n",
       "    .dataframe tbody tr th:only-of-type {\n",
       "        vertical-align: middle;\n",
       "    }\n",
       "\n",
       "    .dataframe tbody tr th {\n",
       "        vertical-align: top;\n",
       "    }\n",
       "\n",
       "    .dataframe thead th {\n",
       "        text-align: right;\n",
       "    }\n",
       "</style>\n",
       "<table border=\"1\" class=\"dataframe\">\n",
       "  <thead>\n",
       "    <tr style=\"text-align: right;\">\n",
       "      <th></th>\n",
       "      <th>X</th>\n",
       "      <th>Y</th>\n",
       "      <th>OBJECTID</th>\n",
       "      <th>CASE_NUMBER</th>\n",
       "      <th>CROSS_STREET</th>\n",
       "      <th>INTERSECTION</th>\n",
       "      <th>STREET_ADDRESS</th>\n",
       "      <th>MONTH</th>\n",
       "      <th>ZIPCODE</th>\n",
       "      <th>MAJOR_CRIME_CATEGORY</th>\n",
       "      <th>CATEGORY</th>\n",
       "      <th>SUBCATEGORY1</th>\n",
       "      <th>SUBCATEGORY2</th>\n",
       "      <th>BEAT</th>\n",
       "      <th>REPORTED_DATE</th>\n",
       "      <th>YEAR</th>\n",
       "      <th>Neighborhood</th>\n",
       "    </tr>\n",
       "  </thead>\n",
       "  <tbody>\n",
       "    <tr>\n",
       "      <td>0</td>\n",
       "      <td>-82.066007</td>\n",
       "      <td>33.472074</td>\n",
       "      <td>1</td>\n",
       "      <td>2017-00412862</td>\n",
       "      <td>NaN</td>\n",
       "      <td>NaN</td>\n",
       "      <td>3220 HERITAGE CIR</td>\n",
       "      <td>11-Nov</td>\n",
       "      <td>30909</td>\n",
       "      <td>Violent Crimes</td>\n",
       "      <td>Homicide</td>\n",
       "      <td>NaN</td>\n",
       "      <td>NaN</td>\n",
       "      <td>13.0</td>\n",
       "      <td>2017-11-05T01:25:29.000Z</td>\n",
       "      <td>2017</td>\n",
       "      <td>Academy Baker Ave</td>\n",
       "    </tr>\n",
       "    <tr>\n",
       "      <td>1</td>\n",
       "      <td>-82.025184</td>\n",
       "      <td>33.422534</td>\n",
       "      <td>2</td>\n",
       "      <td>2017-00414244</td>\n",
       "      <td>NaN</td>\n",
       "      <td>NaN</td>\n",
       "      <td>2714 MARGARET CT</td>\n",
       "      <td>11-Nov</td>\n",
       "      <td>30906</td>\n",
       "      <td>Violent Crimes</td>\n",
       "      <td>Robbery</td>\n",
       "      <td>Individual</td>\n",
       "      <td>Armed</td>\n",
       "      <td>24.0</td>\n",
       "      <td>2017-11-06T11:35:44.000Z</td>\n",
       "      <td>2017</td>\n",
       "      <td>NaN</td>\n",
       "    </tr>\n",
       "    <tr>\n",
       "      <td>2</td>\n",
       "      <td>-82.080317</td>\n",
       "      <td>33.421334</td>\n",
       "      <td>3</td>\n",
       "      <td>2017-00415999</td>\n",
       "      <td>NaN</td>\n",
       "      <td>NaN</td>\n",
       "      <td>2664 BARTON CHAPEL RD</td>\n",
       "      <td>11-Nov</td>\n",
       "      <td>30906</td>\n",
       "      <td>Violent Crimes</td>\n",
       "      <td>Robbery</td>\n",
       "      <td>Individual</td>\n",
       "      <td>Armed</td>\n",
       "      <td>21.0</td>\n",
       "      <td>2017-11-07T17:46:49.000Z</td>\n",
       "      <td>2017</td>\n",
       "      <td>NaN</td>\n",
       "    </tr>\n",
       "    <tr>\n",
       "      <td>3</td>\n",
       "      <td>-82.068223</td>\n",
       "      <td>33.390878</td>\n",
       "      <td>4</td>\n",
       "      <td>2017-00420299</td>\n",
       "      <td>NaN</td>\n",
       "      <td>NaN</td>\n",
       "      <td>2509 DRUMCLIFF CT</td>\n",
       "      <td>11-Nov</td>\n",
       "      <td>30815</td>\n",
       "      <td>Violent Crimes</td>\n",
       "      <td>Robbery</td>\n",
       "      <td>Individual</td>\n",
       "      <td>Armed</td>\n",
       "      <td>30.0</td>\n",
       "      <td>2017-11-11T00:24:23.000Z</td>\n",
       "      <td>2017</td>\n",
       "      <td>NaN</td>\n",
       "    </tr>\n",
       "    <tr>\n",
       "      <td>4</td>\n",
       "      <td>-82.047967</td>\n",
       "      <td>33.399386</td>\n",
       "      <td>5</td>\n",
       "      <td>2017-00416380</td>\n",
       "      <td>NaN</td>\n",
       "      <td>NaN</td>\n",
       "      <td>2350 WINDSOR SPRING RD</td>\n",
       "      <td>11-Nov</td>\n",
       "      <td>30906</td>\n",
       "      <td>Violent Crimes</td>\n",
       "      <td>Robbery</td>\n",
       "      <td>Individual</td>\n",
       "      <td>Armed</td>\n",
       "      <td>29.0</td>\n",
       "      <td>2017-11-08T00:53:19.000Z</td>\n",
       "      <td>2017</td>\n",
       "      <td>NaN</td>\n",
       "    </tr>\n",
       "  </tbody>\n",
       "</table>\n",
       "</div>"
      ],
      "text/plain": [
       "           X          Y  OBJECTID    CASE_NUMBER  CROSS_STREET  INTERSECTION  \\\n",
       "0 -82.066007  33.472074         1  2017-00412862           NaN           NaN   \n",
       "1 -82.025184  33.422534         2  2017-00414244           NaN           NaN   \n",
       "2 -82.080317  33.421334         3  2017-00415999           NaN           NaN   \n",
       "3 -82.068223  33.390878         4  2017-00420299           NaN           NaN   \n",
       "4 -82.047967  33.399386         5  2017-00416380           NaN           NaN   \n",
       "\n",
       "            STREET_ADDRESS   MONTH  ZIPCODE MAJOR_CRIME_CATEGORY  CATEGORY  \\\n",
       "0       3220 HERITAGE CIR   11-Nov    30909       Violent Crimes  Homicide   \n",
       "1        2714 MARGARET CT   11-Nov    30906       Violent Crimes   Robbery   \n",
       "2   2664 BARTON CHAPEL RD   11-Nov    30906       Violent Crimes   Robbery   \n",
       "3        2509 DRUMCLIFF CT  11-Nov    30815       Violent Crimes   Robbery   \n",
       "4  2350 WINDSOR SPRING RD   11-Nov    30906       Violent Crimes   Robbery   \n",
       "\n",
       "  SUBCATEGORY1 SUBCATEGORY2  BEAT             REPORTED_DATE  YEAR  \\\n",
       "0          NaN          NaN  13.0  2017-11-05T01:25:29.000Z  2017   \n",
       "1   Individual        Armed  24.0  2017-11-06T11:35:44.000Z  2017   \n",
       "2   Individual        Armed  21.0  2017-11-07T17:46:49.000Z  2017   \n",
       "3   Individual        Armed  30.0  2017-11-11T00:24:23.000Z  2017   \n",
       "4   Individual        Armed  29.0  2017-11-08T00:53:19.000Z  2017   \n",
       "\n",
       "        Neighborhood  \n",
       "0  Academy Baker Ave  \n",
       "1                NaN  \n",
       "2                NaN  \n",
       "3                NaN  \n",
       "4                NaN  "
      ]
     },
     "execution_count": 79,
     "metadata": {},
     "output_type": "execute_result"
    }
   ],
   "source": [
    "df_Crime_Raw_Data.head()"
   ]
  },
  {
   "cell_type": "code",
   "execution_count": 20,
   "metadata": {},
   "outputs": [
    {
     "data": {
      "text/plain": [
       "0    Academy Baker Ave\n",
       "1                  NaN\n",
       "2                  NaN\n",
       "3                  NaN\n",
       "4                  NaN\n",
       "5                  NaN\n",
       "6                  NaN\n",
       "7                  NaN\n",
       "8                  NaN\n",
       "Name: Neighborhood, dtype: object"
      ]
     },
     "execution_count": 20,
     "metadata": {},
     "output_type": "execute_result"
    }
   ],
   "source": [
    "df_Crime_Raw_Data['Neighborhood']"
   ]
  },
  {
   "cell_type": "code",
   "execution_count": null,
   "metadata": {},
   "outputs": [],
   "source": []
  },
  {
   "cell_type": "markdown",
   "metadata": {},
   "source": [
    "## Goal\n",
    "\n",
    "#### What I need is to loop through distanceFromAugustaGolf (df_Crime_Raw_Data['X'][i] , df_Crime_Raw_Data['X'][i])\n",
    "\n",
    "#### Find  df_Neighborhood_Raw_Data['Distance from Crime'].idxmin() for each i\n",
    "\n",
    "#### Add get shortest distance use the index to find Neighborhood and add it to df_Crime_Raw_Data['Neighborhood'][i]\n",
    "\n",
    "\n",
    "\n"
   ]
  },
  {
   "cell_type": "markdown",
   "metadata": {},
   "source": [
    "# Below are coding ideas I tried and failed"
   ]
  },
  {
   "cell_type": "code",
   "execution_count": null,
   "metadata": {},
   "outputs": [],
   "source": []
  },
  {
   "cell_type": "code",
   "execution_count": 90,
   "metadata": {},
   "outputs": [],
   "source": [
    "def Nearest_Neighbourhood_Finder (lat,lon,Neighbor_df):\n",
    "\n",
    "    #Libraries Required\n",
    "    import math\n",
    "    from numpy import ndarray\n",
    "    \n",
    "    #CONSTANTS\n",
    "    R = 6371000;\n",
    "    \n",
    "    #Arrays Required\n",
    "    distance_CalArray = ndarray((len(Neighbor_df),),float)\n",
    "    dLat = ndarray((len(Neighbor_df),),float)\n",
    "    dLon = ndarray((len(Neighbor_df),),float)\n",
    "    a = ndarray((len(Neighbor_df),),float)\n",
    "    c = ndarray((len(Neighbor_df),),float)\n",
    "    d = ndarray((len(Neighbor_df),),float)\n",
    "    d = ndarray((len(Neighbor_df),),float)\n",
    "    Distance_Array = ndarray((len(Neighbor_df),),float)\n",
    "    #Neighbor_df = ndarray((len(Neighbor_df),),float)\n",
    "    \n",
    "    #Data Frame Required\n",
    "    #Principal_df = pd.DataFrame(columns = 'Loop Through Figures')\n",
    "    \n",
    "    #Initializing First Neigborhood\n",
    "    Neighbor_df['Distance from Crime'] = np.nan\n",
    "    #Nearest_Neighborhood = Neighbor_df.loc['Nearest Neighbourhood'][0] #Related to second part\n",
    "    \n",
    "    #Loop through Nearest Neighbourhood Data Frame\n",
    "    for i in range (len(Neighbor_df)):\n",
    "        dLat[i] = (Neighbor_df['Longitude'][i]-lat) * math.pi / 180 \n",
    "        dLon[i] = (Neighbor_df['Latitude'][i]-lon) * math.pi / 180 \n",
    "        a[i] = math.sin(dLat[i]/2) * math.sin(dLat[i]/2) + math.cos(lat * math.pi / 180 ) * math.cos(Neighbor_df['Longitude'][i] * math.pi / 180 ) * math.sin(dLon[i]/2) * math.sin(dLon[i]/2)\n",
    "        c[i] = 2 * math.atan2(math.sqrt(a[i]), math.sqrt(1-a[i]))\n",
    "        #Neighbor_df['Loop Through Figures'][i] = (R * c[i])/1000 #Go old School\n",
    "        #Distance_Array[i] = (R * c[i])/1000\n",
    "        \n",
    "        \n",
    "        Neighbor_df['Distance from Crime'][i] = (R * c[i])/1000\n",
    "        #Nearest_Neighborhood_StepOne = Neighbor_df['Nearest Neighbourhood'][Neighbor_df['Loop Through Figures'].idxmin()]\n",
    "        #return Nearest_Neighborhood_StepOne\n",
    "        return Neighbor_df.head()\n",
    "        \n",
    "        \n",
    "        \n",
    "        #Neighbor_df[i] = Distance_Array[i]\n",
    "        #return Distance_Array\n",
    "        #Was second part\n",
    "        #Nearest_Neighborhood_StepOne = Neighbor_df['Nearest Neighbourhood'][Neighbor_df['Loop Through Figures'].idxmin()]\n",
    "        #return Nearest_Neighborhood_StepOne"
   ]
  },
  {
   "cell_type": "code",
   "execution_count": null,
   "metadata": {},
   "outputs": [],
   "source": []
  },
  {
   "cell_type": "code",
   "execution_count": 91,
   "metadata": {},
   "outputs": [
    {
     "name": "stderr",
     "output_type": "stream",
     "text": [
      "/home/jupyterlab/conda/envs/python/lib/python3.6/site-packages/ipykernel_launcher.py:38: SettingWithCopyWarning: \n",
      "A value is trying to be set on a copy of a slice from a DataFrame\n",
      "\n",
      "See the caveats in the documentation: http://pandas.pydata.org/pandas-docs/stable/user_guide/indexing.html#returning-a-view-versus-a-copy\n"
     ]
    }
   ],
   "source": [
    "TESTING = Nearest_Neighbourhood_Finder (33.472074, -82.066007,df_Neighborhood_Raw_Data)"
   ]
  },
  {
   "cell_type": "code",
   "execution_count": 98,
   "metadata": {},
   "outputs": [
    {
     "data": {
      "text/html": [
       "<div>\n",
       "<style scoped>\n",
       "    .dataframe tbody tr th:only-of-type {\n",
       "        vertical-align: middle;\n",
       "    }\n",
       "\n",
       "    .dataframe tbody tr th {\n",
       "        vertical-align: top;\n",
       "    }\n",
       "\n",
       "    .dataframe thead th {\n",
       "        text-align: right;\n",
       "    }\n",
       "</style>\n",
       "<table border=\"1\" class=\"dataframe\">\n",
       "  <thead>\n",
       "    <tr style=\"text-align: right;\">\n",
       "      <th></th>\n",
       "      <th>Nearest Neighbourhood</th>\n",
       "      <th>City</th>\n",
       "      <th>State</th>\n",
       "      <th>Coordinates</th>\n",
       "      <th>Longitude</th>\n",
       "      <th>Latitude</th>\n",
       "      <th>Distance from Crime</th>\n",
       "    </tr>\n",
       "  </thead>\n",
       "  <tbody>\n",
       "    <tr>\n",
       "      <td>0</td>\n",
       "      <td>Academy Baker Ave</td>\n",
       "      <td>Augusta</td>\n",
       "      <td>Georgia</td>\n",
       "      <td>33.4836288, -82.0845725</td>\n",
       "      <td>33.483629</td>\n",
       "      <td>-82.084572</td>\n",
       "      <td>2.148432</td>\n",
       "    </tr>\n",
       "    <tr>\n",
       "      <td>1</td>\n",
       "      <td>Albion Acres</td>\n",
       "      <td>Augusta</td>\n",
       "      <td>Georgia</td>\n",
       "      <td>33.4125043, -82.0220507</td>\n",
       "      <td>33.412504</td>\n",
       "      <td>-82.022051</td>\n",
       "      <td>NaN</td>\n",
       "    </tr>\n",
       "    <tr>\n",
       "      <td>2</td>\n",
       "      <td>Barton Chapel</td>\n",
       "      <td>Augusta</td>\n",
       "      <td>Georgia</td>\n",
       "      <td>33.4424915, -82.0883992</td>\n",
       "      <td>33.442491</td>\n",
       "      <td>-82.088399</td>\n",
       "      <td>NaN</td>\n",
       "    </tr>\n",
       "    <tr>\n",
       "      <td>3</td>\n",
       "      <td>Bath-Edie</td>\n",
       "      <td>Augusta</td>\n",
       "      <td>Georgia</td>\n",
       "      <td>33.3333868, -82.2163489</td>\n",
       "      <td>33.333387</td>\n",
       "      <td>-82.216349</td>\n",
       "      <td>NaN</td>\n",
       "    </tr>\n",
       "  </tbody>\n",
       "</table>\n",
       "</div>"
      ],
      "text/plain": [
       "  Nearest Neighbourhood     City    State              Coordinates  Longitude  \\\n",
       "0     Academy Baker Ave  Augusta  Georgia  33.4836288, -82.0845725  33.483629   \n",
       "1          Albion Acres  Augusta  Georgia  33.4125043, -82.0220507  33.412504   \n",
       "2         Barton Chapel  Augusta  Georgia  33.4424915, -82.0883992  33.442491   \n",
       "3             Bath-Edie  Augusta  Georgia  33.3333868, -82.2163489  33.333387   \n",
       "\n",
       "    Latitude  Distance from Crime  \n",
       "0 -82.084572             2.148432  \n",
       "1 -82.022051                  NaN  \n",
       "2 -82.088399                  NaN  \n",
       "3 -82.216349                  NaN  "
      ]
     },
     "execution_count": 98,
     "metadata": {},
     "output_type": "execute_result"
    }
   ],
   "source": [
    "TESTING \n",
    "#Result not listing 'Distance from Crime'"
   ]
  },
  {
   "cell_type": "code",
   "execution_count": null,
   "metadata": {},
   "outputs": [],
   "source": []
  },
  {
   "cell_type": "code",
   "execution_count": 89,
   "metadata": {},
   "outputs": [],
   "source": [
    "def Nearest_Neighbourhood_Finder (lat,lon,Neighbor_df):\n",
    "\n",
    "    #Libraries Required\n",
    "    import math\n",
    "    from numpy import ndarray\n",
    "    \n",
    "    #CONSTANTS\n",
    "    R = 6371000;\n",
    "    \n",
    "    #Arrays Required\n",
    "    distance_CalArray = ndarray((len(Neighbor_df),),float)\n",
    "    dLat = ndarray((len(Neighbor_df),),float)\n",
    "    dLon = ndarray((len(Neighbor_df),),float)\n",
    "    a = ndarray((len(Neighbor_df),),float)\n",
    "    c = ndarray((len(Neighbor_df),),float)\n",
    "    d = ndarray((len(Neighbor_df),),float)\n",
    "    d = ndarray((len(Neighbor_df),),float)\n",
    "    Distance_Array = ndarray((len(Neighbor_df),),float)\n",
    "    #Neighbor_df = ndarray((len(Neighbor_df),),float)\n",
    "    \n",
    "    #Data Frame Required\n",
    "    #Principal_df = pd.DataFrame(columns = 'Loop Through Figures')\n",
    "    \n",
    "    #Initializing First Neigborhood\n",
    "    Neighbor_df['Distance from Crime'] = np.nan\n",
    "    #Nearest_Neighborhood = Neighbor_df.loc['Nearest Neighbourhood'][0] #Related to second part\n",
    "    \n",
    "    #Loop through Nearest Neighbourhood Data Frame\n",
    "    for i in range (len(Neighbor_df)):\n",
    "        dLat[i] = (Neighbor_df['Longitude'][i]-lat) * math.pi / 180 \n",
    "        dLon[i] = (Neighbor_df['Latitude'][i]-lon) * math.pi / 180 \n",
    "        a[i] = math.sin(dLat[i]/2) * math.sin(dLat[i]/2) + math.cos(lat * math.pi / 180 ) * math.cos(Neighbor_df['Longitude'][i] * math.pi / 180 ) * math.sin(dLon[i]/2) * math.sin(dLon[i]/2)\n",
    "        c[i] = 2 * math.atan2(math.sqrt(a[i]), math.sqrt(1-a[i]))\n",
    "        #Neighbor_df['Loop Through Figures'][i] = (R * c[i])/1000 #Go old School\n",
    "        #Distance_Array[i] = (R * c[i])/1000\n",
    "        \n",
    "        \n",
    "        #Neighbor_df['Distance from Crime'][i] = (R * c[i])/1000\n",
    "        Nearest_Neighborhood_StepOne = Neighbor_df['Nearest Neighbourhood'][Neighbor_df['Distance from Crime'].idxmin()]\n",
    "        return Nearest_Neighborhood_StepOne\n",
    "        #return Neighbor_df.head()\n",
    "        \n",
    "\n",
    "        \n",
    "        #Neighbor_df[i] = Distance_Array[i]\n",
    "        #return Distance_Array\n",
    "        #Was second part\n",
    "        #Nearest_Neighborhood_StepOne = Neighbor_df['Nearest Neighbourhood'][Neighbor_df['Loop Through Figures'].idxmin()]\n",
    "        #return Nearest_Neighborhood_StepOne"
   ]
  },
  {
   "cell_type": "code",
   "execution_count": 88,
   "metadata": {},
   "outputs": [
    {
     "ename": "TypeError",
     "evalue": "cannot do label indexing on <class 'pandas.core.indexes.range.RangeIndex'> with these indexers [nan] of <class 'float'>",
     "output_type": "error",
     "traceback": [
      "\u001b[0;31m---------------------------------------------------------------------------\u001b[0m",
      "\u001b[0;31mTypeError\u001b[0m                                 Traceback (most recent call last)",
      "\u001b[0;32m<ipython-input-88-87b5ebc82def>\u001b[0m in \u001b[0;36m<module>\u001b[0;34m\u001b[0m\n\u001b[0;32m----> 1\u001b[0;31m \u001b[0mTESTING\u001b[0m \u001b[0;34m=\u001b[0m \u001b[0mNearest_Neighbourhood_Finder\u001b[0m \u001b[0;34m(\u001b[0m\u001b[0;36m33.472074\u001b[0m\u001b[0;34m,\u001b[0m \u001b[0;34m-\u001b[0m\u001b[0;36m82.066007\u001b[0m\u001b[0;34m,\u001b[0m\u001b[0mdf_Neighborhood_Raw_Data\u001b[0m\u001b[0;34m)\u001b[0m\u001b[0;34m\u001b[0m\u001b[0;34m\u001b[0m\u001b[0m\n\u001b[0m",
      "\u001b[0;32m<ipython-input-87-9c107d32fc74>\u001b[0m in \u001b[0;36mNearest_Neighbourhood_Finder\u001b[0;34m(lat, lon, Neighbor_df)\u001b[0m\n\u001b[1;32m     38\u001b[0m \u001b[0;34m\u001b[0m\u001b[0m\n\u001b[1;32m     39\u001b[0m         \u001b[0;31m#Neighbor_df['Distance from Crime'][i] = (R * c[i])/1000\u001b[0m\u001b[0;34m\u001b[0m\u001b[0;34m\u001b[0m\u001b[0;34m\u001b[0m\u001b[0m\n\u001b[0;32m---> 40\u001b[0;31m         \u001b[0mNearest_Neighborhood_StepOne\u001b[0m \u001b[0;34m=\u001b[0m \u001b[0mNeighbor_df\u001b[0m\u001b[0;34m[\u001b[0m\u001b[0;34m'Nearest Neighbourhood'\u001b[0m\u001b[0;34m]\u001b[0m\u001b[0;34m[\u001b[0m\u001b[0mNeighbor_df\u001b[0m\u001b[0;34m[\u001b[0m\u001b[0;34m'Distance from Crime'\u001b[0m\u001b[0;34m]\u001b[0m\u001b[0;34m.\u001b[0m\u001b[0midxmin\u001b[0m\u001b[0;34m(\u001b[0m\u001b[0;34m)\u001b[0m\u001b[0;34m]\u001b[0m\u001b[0;34m\u001b[0m\u001b[0;34m\u001b[0m\u001b[0m\n\u001b[0m\u001b[1;32m     41\u001b[0m         \u001b[0;32mreturn\u001b[0m \u001b[0mNearest_Neighborhood_StepOne\u001b[0m\u001b[0;34m\u001b[0m\u001b[0;34m\u001b[0m\u001b[0m\n\u001b[1;32m     42\u001b[0m         \u001b[0;31m#return Neighbor_df.head()\u001b[0m\u001b[0;34m\u001b[0m\u001b[0;34m\u001b[0m\u001b[0;34m\u001b[0m\u001b[0m\n",
      "\u001b[0;32m~/conda/envs/python/lib/python3.6/site-packages/pandas/core/series.py\u001b[0m in \u001b[0;36m__getitem__\u001b[0;34m(self, key)\u001b[0m\n\u001b[1;32m   1066\u001b[0m         \u001b[0mkey\u001b[0m \u001b[0;34m=\u001b[0m \u001b[0mcom\u001b[0m\u001b[0;34m.\u001b[0m\u001b[0mapply_if_callable\u001b[0m\u001b[0;34m(\u001b[0m\u001b[0mkey\u001b[0m\u001b[0;34m,\u001b[0m \u001b[0mself\u001b[0m\u001b[0;34m)\u001b[0m\u001b[0;34m\u001b[0m\u001b[0;34m\u001b[0m\u001b[0m\n\u001b[1;32m   1067\u001b[0m         \u001b[0;32mtry\u001b[0m\u001b[0;34m:\u001b[0m\u001b[0;34m\u001b[0m\u001b[0;34m\u001b[0m\u001b[0m\n\u001b[0;32m-> 1068\u001b[0;31m             \u001b[0mresult\u001b[0m \u001b[0;34m=\u001b[0m \u001b[0mself\u001b[0m\u001b[0;34m.\u001b[0m\u001b[0mindex\u001b[0m\u001b[0;34m.\u001b[0m\u001b[0mget_value\u001b[0m\u001b[0;34m(\u001b[0m\u001b[0mself\u001b[0m\u001b[0;34m,\u001b[0m \u001b[0mkey\u001b[0m\u001b[0;34m)\u001b[0m\u001b[0;34m\u001b[0m\u001b[0;34m\u001b[0m\u001b[0m\n\u001b[0m\u001b[1;32m   1069\u001b[0m \u001b[0;34m\u001b[0m\u001b[0m\n\u001b[1;32m   1070\u001b[0m             \u001b[0;32mif\u001b[0m \u001b[0;32mnot\u001b[0m \u001b[0mis_scalar\u001b[0m\u001b[0;34m(\u001b[0m\u001b[0mresult\u001b[0m\u001b[0;34m)\u001b[0m\u001b[0;34m:\u001b[0m\u001b[0;34m\u001b[0m\u001b[0;34m\u001b[0m\u001b[0m\n",
      "\u001b[0;32m~/conda/envs/python/lib/python3.6/site-packages/pandas/core/indexes/base.py\u001b[0m in \u001b[0;36mget_value\u001b[0;34m(self, series, key)\u001b[0m\n\u001b[1;32m   4726\u001b[0m         \u001b[0mk\u001b[0m \u001b[0;34m=\u001b[0m \u001b[0mcom\u001b[0m\u001b[0;34m.\u001b[0m\u001b[0mvalues_from_object\u001b[0m\u001b[0;34m(\u001b[0m\u001b[0mkey\u001b[0m\u001b[0;34m)\u001b[0m\u001b[0;34m\u001b[0m\u001b[0;34m\u001b[0m\u001b[0m\n\u001b[1;32m   4727\u001b[0m \u001b[0;34m\u001b[0m\u001b[0m\n\u001b[0;32m-> 4728\u001b[0;31m         \u001b[0mk\u001b[0m \u001b[0;34m=\u001b[0m \u001b[0mself\u001b[0m\u001b[0;34m.\u001b[0m\u001b[0m_convert_scalar_indexer\u001b[0m\u001b[0;34m(\u001b[0m\u001b[0mk\u001b[0m\u001b[0;34m,\u001b[0m \u001b[0mkind\u001b[0m\u001b[0;34m=\u001b[0m\u001b[0;34m\"getitem\"\u001b[0m\u001b[0;34m)\u001b[0m\u001b[0;34m\u001b[0m\u001b[0;34m\u001b[0m\u001b[0m\n\u001b[0m\u001b[1;32m   4729\u001b[0m         \u001b[0;32mtry\u001b[0m\u001b[0;34m:\u001b[0m\u001b[0;34m\u001b[0m\u001b[0;34m\u001b[0m\u001b[0m\n\u001b[1;32m   4730\u001b[0m             \u001b[0;32mreturn\u001b[0m \u001b[0mself\u001b[0m\u001b[0;34m.\u001b[0m\u001b[0m_engine\u001b[0m\u001b[0;34m.\u001b[0m\u001b[0mget_value\u001b[0m\u001b[0;34m(\u001b[0m\u001b[0ms\u001b[0m\u001b[0;34m,\u001b[0m \u001b[0mk\u001b[0m\u001b[0;34m,\u001b[0m \u001b[0mtz\u001b[0m\u001b[0;34m=\u001b[0m\u001b[0mgetattr\u001b[0m\u001b[0;34m(\u001b[0m\u001b[0mseries\u001b[0m\u001b[0;34m.\u001b[0m\u001b[0mdtype\u001b[0m\u001b[0;34m,\u001b[0m \u001b[0;34m\"tz\"\u001b[0m\u001b[0;34m,\u001b[0m \u001b[0;32mNone\u001b[0m\u001b[0;34m)\u001b[0m\u001b[0;34m)\u001b[0m\u001b[0;34m\u001b[0m\u001b[0;34m\u001b[0m\u001b[0m\n",
      "\u001b[0;32m~/conda/envs/python/lib/python3.6/site-packages/pandas/core/indexes/numeric.py\u001b[0m in \u001b[0;36m_convert_scalar_indexer\u001b[0;34m(self, key, kind)\u001b[0m\n\u001b[1;32m    243\u001b[0m         \u001b[0;32mif\u001b[0m \u001b[0mkind\u001b[0m \u001b[0;34m!=\u001b[0m \u001b[0;34m\"iloc\"\u001b[0m\u001b[0;34m:\u001b[0m\u001b[0;34m\u001b[0m\u001b[0;34m\u001b[0m\u001b[0m\n\u001b[1;32m    244\u001b[0m             \u001b[0mkey\u001b[0m \u001b[0;34m=\u001b[0m \u001b[0mself\u001b[0m\u001b[0;34m.\u001b[0m\u001b[0m_maybe_cast_indexer\u001b[0m\u001b[0;34m(\u001b[0m\u001b[0mkey\u001b[0m\u001b[0;34m)\u001b[0m\u001b[0;34m\u001b[0m\u001b[0;34m\u001b[0m\u001b[0m\n\u001b[0;32m--> 245\u001b[0;31m         \u001b[0;32mreturn\u001b[0m \u001b[0msuper\u001b[0m\u001b[0;34m(\u001b[0m\u001b[0;34m)\u001b[0m\u001b[0;34m.\u001b[0m\u001b[0m_convert_scalar_indexer\u001b[0m\u001b[0;34m(\u001b[0m\u001b[0mkey\u001b[0m\u001b[0;34m,\u001b[0m \u001b[0mkind\u001b[0m\u001b[0;34m=\u001b[0m\u001b[0mkind\u001b[0m\u001b[0;34m)\u001b[0m\u001b[0;34m\u001b[0m\u001b[0;34m\u001b[0m\u001b[0m\n\u001b[0m\u001b[1;32m    246\u001b[0m \u001b[0;34m\u001b[0m\u001b[0m\n\u001b[1;32m    247\u001b[0m     \u001b[0;32mdef\u001b[0m \u001b[0m_wrap_joined_index\u001b[0m\u001b[0;34m(\u001b[0m\u001b[0mself\u001b[0m\u001b[0;34m,\u001b[0m \u001b[0mjoined\u001b[0m\u001b[0;34m,\u001b[0m \u001b[0mother\u001b[0m\u001b[0;34m)\u001b[0m\u001b[0;34m:\u001b[0m\u001b[0;34m\u001b[0m\u001b[0;34m\u001b[0m\u001b[0m\n",
      "\u001b[0;32m~/conda/envs/python/lib/python3.6/site-packages/pandas/core/indexes/base.py\u001b[0m in \u001b[0;36m_convert_scalar_indexer\u001b[0;34m(self, key, kind)\u001b[0m\n\u001b[1;32m   3118\u001b[0m             \u001b[0;32mif\u001b[0m \u001b[0mkind\u001b[0m \u001b[0;32min\u001b[0m \u001b[0;34m[\u001b[0m\u001b[0;34m\"getitem\"\u001b[0m\u001b[0;34m,\u001b[0m \u001b[0;34m\"ix\"\u001b[0m\u001b[0;34m]\u001b[0m \u001b[0;32mand\u001b[0m \u001b[0mis_float\u001b[0m\u001b[0;34m(\u001b[0m\u001b[0mkey\u001b[0m\u001b[0;34m)\u001b[0m\u001b[0;34m:\u001b[0m\u001b[0;34m\u001b[0m\u001b[0;34m\u001b[0m\u001b[0m\n\u001b[1;32m   3119\u001b[0m                 \u001b[0;32mif\u001b[0m \u001b[0;32mnot\u001b[0m \u001b[0mself\u001b[0m\u001b[0;34m.\u001b[0m\u001b[0mis_floating\u001b[0m\u001b[0;34m(\u001b[0m\u001b[0;34m)\u001b[0m\u001b[0;34m:\u001b[0m\u001b[0;34m\u001b[0m\u001b[0;34m\u001b[0m\u001b[0m\n\u001b[0;32m-> 3120\u001b[0;31m                     \u001b[0;32mreturn\u001b[0m \u001b[0mself\u001b[0m\u001b[0;34m.\u001b[0m\u001b[0m_invalid_indexer\u001b[0m\u001b[0;34m(\u001b[0m\u001b[0;34m\"label\"\u001b[0m\u001b[0;34m,\u001b[0m \u001b[0mkey\u001b[0m\u001b[0;34m)\u001b[0m\u001b[0;34m\u001b[0m\u001b[0;34m\u001b[0m\u001b[0m\n\u001b[0m\u001b[1;32m   3121\u001b[0m \u001b[0;34m\u001b[0m\u001b[0m\n\u001b[1;32m   3122\u001b[0m             \u001b[0;32melif\u001b[0m \u001b[0mkind\u001b[0m \u001b[0;32min\u001b[0m \u001b[0;34m[\u001b[0m\u001b[0;34m\"loc\"\u001b[0m\u001b[0;34m]\u001b[0m \u001b[0;32mand\u001b[0m \u001b[0mis_float\u001b[0m\u001b[0;34m(\u001b[0m\u001b[0mkey\u001b[0m\u001b[0;34m)\u001b[0m\u001b[0;34m:\u001b[0m\u001b[0;34m\u001b[0m\u001b[0;34m\u001b[0m\u001b[0m\n",
      "\u001b[0;32m~/conda/envs/python/lib/python3.6/site-packages/pandas/core/indexes/base.py\u001b[0m in \u001b[0;36m_invalid_indexer\u001b[0;34m(self, form, key)\u001b[0m\n\u001b[1;32m   3338\u001b[0m             \u001b[0;34m\"cannot do {form} indexing on {klass} with these \"\u001b[0m\u001b[0;34m\u001b[0m\u001b[0;34m\u001b[0m\u001b[0m\n\u001b[1;32m   3339\u001b[0m             \"indexers [{key}] of {kind}\".format(\n\u001b[0;32m-> 3340\u001b[0;31m                 \u001b[0mform\u001b[0m\u001b[0;34m=\u001b[0m\u001b[0mform\u001b[0m\u001b[0;34m,\u001b[0m \u001b[0mklass\u001b[0m\u001b[0;34m=\u001b[0m\u001b[0mtype\u001b[0m\u001b[0;34m(\u001b[0m\u001b[0mself\u001b[0m\u001b[0;34m)\u001b[0m\u001b[0;34m,\u001b[0m \u001b[0mkey\u001b[0m\u001b[0;34m=\u001b[0m\u001b[0mkey\u001b[0m\u001b[0;34m,\u001b[0m \u001b[0mkind\u001b[0m\u001b[0;34m=\u001b[0m\u001b[0mtype\u001b[0m\u001b[0;34m(\u001b[0m\u001b[0mkey\u001b[0m\u001b[0;34m)\u001b[0m\u001b[0;34m\u001b[0m\u001b[0;34m\u001b[0m\u001b[0m\n\u001b[0m\u001b[1;32m   3341\u001b[0m             )\n\u001b[1;32m   3342\u001b[0m         )\n",
      "\u001b[0;31mTypeError\u001b[0m: cannot do label indexing on <class 'pandas.core.indexes.range.RangeIndex'> with these indexers [nan] of <class 'float'>"
     ]
    }
   ],
   "source": [
    "TESTING = Nearest_Neighbourhood_Finder (33.472074, -82.066007,df_Neighborhood_Raw_Data)"
   ]
  },
  {
   "cell_type": "code",
   "execution_count": 95,
   "metadata": {},
   "outputs": [],
   "source": [
    "def Nearest_Neighbourhood_Finder (lat,lon,Neighbor_df):\n",
    "\n",
    "    #Libraries Required\n",
    "    import math\n",
    "    from numpy import ndarray\n",
    "    \n",
    "    #CONSTANTS\n",
    "    R = 6371000;\n",
    "    \n",
    "    #Arrays Required\n",
    "    distance_CalArray = ndarray((len(Neighbor_df),),float)\n",
    "    Distance_Array = ndarray((len(Neighbor_df),),float)\n",
    "    #Neighbor_df = ndarray((len(Neighbor_df),),float)\n",
    "    \n",
    "    #Data Frame Required\n",
    "    #Principal_df = pd.DataFrame(columns = 'Loop Through Figures')\n",
    "    \n",
    "    #Initializing First Neigborhood\n",
    "    Neighbor_df['Distance from Crime'] = np.nan\n",
    "    #Nearest_Neighborhood = Neighbor_df.loc['Nearest Neighbourhood'][0] #Related to second part\n",
    "    \n",
    "    #Loop through Nearest Neighbourhood Data Frame\n",
    "    for i in range (len(Neighbor_df)):\n",
    "        dLat = (Neighbor_df['Longitude'][i]-lat) * math.pi / 180 \n",
    "        dLon = (Neighbor_df['Latitude'][i]-lon) * math.pi / 180 \n",
    "        a = math.sin(dLat/2) * math.sin(dLat/2) + math.cos(lat * math.pi / 180 ) * math.cos(Neighbor_df['Longitude'][i] * math.pi / 180 ) * math.sin(dLon/2) * math.sin(dLon/2)\n",
    "        c = 2 * math.atan2(math.sqrt(a), math.sqrt(1-a))\n",
    "        #Neighbor_df['Loop Through Figures'][i] = (R * c[i])/1000 #Go old School\n",
    "        #Distance_Array[i] = (R * c[i])/1000\n",
    "        \n",
    "        \n",
    "        Neighbor_df['Distance from Crime'][i] = (R * c)/1000\n",
    "        #Nearest_Neighborhood_StepOne = Neighbor_df['Nearest Neighbourhood'][Neighbor_df['Loop Through Figures'].idxmin()]\n",
    "        #return Nearest_Neighborhood_StepOne\n",
    "        return Neighbor_df.head()\n",
    "        \n",
    "        \n",
    "        \n",
    "        #Neighbor_df[i] = Distance_Array[i]\n",
    "        #return Distance_Array\n",
    "        #Was second part\n",
    "        #Nearest_Neighborhood_StepOne = Neighbor_df['Nearest Neighbourhood'][Neighbor_df['Loop Through Figures'].idxmin()]\n",
    "        #return Nearest_Neighborhood_StepOne"
   ]
  },
  {
   "cell_type": "code",
   "execution_count": 96,
   "metadata": {},
   "outputs": [
    {
     "name": "stderr",
     "output_type": "stream",
     "text": [
      "/home/jupyterlab/conda/envs/python/lib/python3.6/site-packages/ipykernel_launcher.py:32: SettingWithCopyWarning: \n",
      "A value is trying to be set on a copy of a slice from a DataFrame\n",
      "\n",
      "See the caveats in the documentation: http://pandas.pydata.org/pandas-docs/stable/user_guide/indexing.html#returning-a-view-versus-a-copy\n"
     ]
    }
   ],
   "source": [
    "TESTING = Nearest_Neighbourhood_Finder (33.472074, -82.066007,df_Neighborhood_Raw_Data)"
   ]
  },
  {
   "cell_type": "code",
   "execution_count": 97,
   "metadata": {},
   "outputs": [
    {
     "data": {
      "text/html": [
       "<div>\n",
       "<style scoped>\n",
       "    .dataframe tbody tr th:only-of-type {\n",
       "        vertical-align: middle;\n",
       "    }\n",
       "\n",
       "    .dataframe tbody tr th {\n",
       "        vertical-align: top;\n",
       "    }\n",
       "\n",
       "    .dataframe thead th {\n",
       "        text-align: right;\n",
       "    }\n",
       "</style>\n",
       "<table border=\"1\" class=\"dataframe\">\n",
       "  <thead>\n",
       "    <tr style=\"text-align: right;\">\n",
       "      <th></th>\n",
       "      <th>Nearest Neighbourhood</th>\n",
       "      <th>City</th>\n",
       "      <th>State</th>\n",
       "      <th>Coordinates</th>\n",
       "      <th>Longitude</th>\n",
       "      <th>Latitude</th>\n",
       "      <th>Distance from Crime</th>\n",
       "    </tr>\n",
       "  </thead>\n",
       "  <tbody>\n",
       "    <tr>\n",
       "      <td>0</td>\n",
       "      <td>Academy Baker Ave</td>\n",
       "      <td>Augusta</td>\n",
       "      <td>Georgia</td>\n",
       "      <td>33.4836288, -82.0845725</td>\n",
       "      <td>33.483629</td>\n",
       "      <td>-82.084572</td>\n",
       "      <td>2.148432</td>\n",
       "    </tr>\n",
       "    <tr>\n",
       "      <td>1</td>\n",
       "      <td>Albion Acres</td>\n",
       "      <td>Augusta</td>\n",
       "      <td>Georgia</td>\n",
       "      <td>33.4125043, -82.0220507</td>\n",
       "      <td>33.412504</td>\n",
       "      <td>-82.022051</td>\n",
       "      <td>NaN</td>\n",
       "    </tr>\n",
       "    <tr>\n",
       "      <td>2</td>\n",
       "      <td>Barton Chapel</td>\n",
       "      <td>Augusta</td>\n",
       "      <td>Georgia</td>\n",
       "      <td>33.4424915, -82.0883992</td>\n",
       "      <td>33.442491</td>\n",
       "      <td>-82.088399</td>\n",
       "      <td>NaN</td>\n",
       "    </tr>\n",
       "    <tr>\n",
       "      <td>3</td>\n",
       "      <td>Bath-Edie</td>\n",
       "      <td>Augusta</td>\n",
       "      <td>Georgia</td>\n",
       "      <td>33.3333868, -82.2163489</td>\n",
       "      <td>33.333387</td>\n",
       "      <td>-82.216349</td>\n",
       "      <td>NaN</td>\n",
       "    </tr>\n",
       "  </tbody>\n",
       "</table>\n",
       "</div>"
      ],
      "text/plain": [
       "  Nearest Neighbourhood     City    State              Coordinates  Longitude  \\\n",
       "0     Academy Baker Ave  Augusta  Georgia  33.4836288, -82.0845725  33.483629   \n",
       "1          Albion Acres  Augusta  Georgia  33.4125043, -82.0220507  33.412504   \n",
       "2         Barton Chapel  Augusta  Georgia  33.4424915, -82.0883992  33.442491   \n",
       "3             Bath-Edie  Augusta  Georgia  33.3333868, -82.2163489  33.333387   \n",
       "\n",
       "    Latitude  Distance from Crime  \n",
       "0 -82.084572             2.148432  \n",
       "1 -82.022051                  NaN  \n",
       "2 -82.088399                  NaN  \n",
       "3 -82.216349                  NaN  "
      ]
     },
     "execution_count": 97,
     "metadata": {},
     "output_type": "execute_result"
    }
   ],
   "source": [
    "TESTING \n",
    "#Result not listing 'Distance from Crime'"
   ]
  },
  {
   "cell_type": "code",
   "execution_count": 21,
   "metadata": {},
   "outputs": [],
   "source": [
    "Distance_Cal_Crime = ndarray((len(df_Neighborhood_Raw_Data),),float)\n",
    "distance_CalArray = ndarray((len(df_Neighborhood_Raw_Data),),float)\n",
    "for i in range (len(df_Neighborhood_Raw_Data)):\n",
    "    distance_CalArray[i] = distanceFromAugustaGolf (df_Neighborhood_Raw_Data['Latitude'][i],df_Neighborhood_Raw_Data['Longitude'][i])\n",
    "    Distance_Cal_Crime[i] = distance_CalArray[i]"
   ]
  },
  {
   "cell_type": "code",
   "execution_count": 22,
   "metadata": {},
   "outputs": [
    {
     "data": {
      "text/plain": [
       "array([ 3.38011582,  7.38067038,  5.07223768, 22.05146859])"
      ]
     },
     "execution_count": 22,
     "metadata": {},
     "output_type": "execute_result"
    }
   ],
   "source": [
    " Distance_Cal_Crime"
   ]
  },
  {
   "cell_type": "code",
   "execution_count": null,
   "metadata": {},
   "outputs": [],
   "source": []
  }
 ],
 "metadata": {
  "kernelspec": {
   "display_name": "Python",
   "language": "python",
   "name": "conda-env-python-py"
  },
  "language_info": {
   "codemirror_mode": {
    "name": "ipython",
    "version": 3
   },
   "file_extension": ".py",
   "mimetype": "text/x-python",
   "name": "python",
   "nbconvert_exporter": "python",
   "pygments_lexer": "ipython3",
   "version": "3.6.7"
  }
 },
 "nbformat": 4,
 "nbformat_minor": 4
}
